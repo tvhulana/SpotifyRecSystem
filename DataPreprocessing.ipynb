{
 "cells": [
  {
   "cell_type": "code",
   "execution_count": 2,
   "id": "6ab00e0a",
   "metadata": {},
   "outputs": [
    {
     "name": "stdout",
     "output_type": "stream",
     "text": [
      "   genre        artist_name                        track_name  \\\n",
      "0  Movie     Henri Salvador       C'est beau de faire un Show   \n",
      "1  Movie  Martin & les fées  Perdu d'avance (par Gad Elmaleh)   \n",
      "2  Movie    Joseph Williams    Don't Let Me Be Lonely Tonight   \n",
      "3  Movie     Henri Salvador    Dis-moi Monsieur Gordon Cooper   \n",
      "4  Movie       Fabien Nataf                         Ouverture   \n",
      "\n",
      "                 track_id  popularity  acousticness  danceability  \\\n",
      "0  0BRjO6ga9RKCKjfDqeFgWV           0         0.611         0.389   \n",
      "1  0BjC1NfoEOOusryehmNudP           1         0.246         0.590   \n",
      "2  0CoSDzoNIKCRs124s9uTVy           3         0.952         0.663   \n",
      "3  0Gc6TVm52BwZD07Ki6tIvf           0         0.703         0.240   \n",
      "4  0IuslXpMROHdEPvSl1fTQK           4         0.950         0.331   \n",
      "\n",
      "   duration_ms  energy  instrumentalness key  liveness  loudness   mode  \\\n",
      "0        99373   0.910             0.000  C#    0.3460    -1.828  Major   \n",
      "1       137373   0.737             0.000  F#    0.1510    -5.559  Minor   \n",
      "2       170267   0.131             0.000   C    0.1030   -13.879  Minor   \n",
      "3       152427   0.326             0.000  C#    0.0985   -12.178  Major   \n",
      "4        82625   0.225             0.123   F    0.2020   -21.150  Major   \n",
      "\n",
      "   speechiness    tempo time_signature  valence  \n",
      "0       0.0525  166.969            4/4    0.814  \n",
      "1       0.0868  174.003            4/4    0.816  \n",
      "2       0.0362   99.488            5/4    0.368  \n",
      "3       0.0395  171.758            4/4    0.227  \n",
      "4       0.0456  140.576            4/4    0.390  \n"
     ]
    }
   ],
   "source": [
    "\n",
    "# Load the dataset from your Downloads folder\n",
    "df = pd.read_csv(r\"C:\\Users\\talif\\Downloads\\archive\\SpotifyFeatures.csv\")\n",
    "\n",
    "\n",
    "# Show first 5 rows\n",
    "print(df.head())\n"
   ]
  },
  {
   "cell_type": "code",
   "execution_count": 3,
   "id": "5fccad64",
   "metadata": {},
   "outputs": [
    {
     "name": "stdout",
     "output_type": "stream",
     "text": [
      "<class 'pandas.core.frame.DataFrame'>\n",
      "RangeIndex: 232725 entries, 0 to 232724\n",
      "Data columns (total 18 columns):\n",
      " #   Column            Non-Null Count   Dtype  \n",
      "---  ------            --------------   -----  \n",
      " 0   genre             232725 non-null  object \n",
      " 1   artist_name       232725 non-null  object \n",
      " 2   track_name        232724 non-null  object \n",
      " 3   track_id          232725 non-null  object \n",
      " 4   popularity        232725 non-null  int64  \n",
      " 5   acousticness      232725 non-null  float64\n",
      " 6   danceability      232725 non-null  float64\n",
      " 7   duration_ms       232725 non-null  int64  \n",
      " 8   energy            232725 non-null  float64\n",
      " 9   instrumentalness  232725 non-null  float64\n",
      " 10  key               232725 non-null  object \n",
      " 11  liveness          232725 non-null  float64\n",
      " 12  loudness          232725 non-null  float64\n",
      " 13  mode              232725 non-null  object \n",
      " 14  speechiness       232725 non-null  float64\n",
      " 15  tempo             232725 non-null  float64\n",
      " 16  time_signature    232725 non-null  object \n",
      " 17  valence           232725 non-null  float64\n",
      "dtypes: float64(9), int64(2), object(7)\n",
      "memory usage: 32.0+ MB\n",
      "None\n",
      "          popularity   acousticness   danceability   duration_ms  \\\n",
      "count  232725.000000  232725.000000  232725.000000  2.327250e+05   \n",
      "mean       41.127502       0.368560       0.554364  2.351223e+05   \n",
      "std        18.189948       0.354768       0.185608  1.189359e+05   \n",
      "min         0.000000       0.000000       0.056900  1.538700e+04   \n",
      "25%        29.000000       0.037600       0.435000  1.828570e+05   \n",
      "50%        43.000000       0.232000       0.571000  2.204270e+05   \n",
      "75%        55.000000       0.722000       0.692000  2.657680e+05   \n",
      "max       100.000000       0.996000       0.989000  5.552917e+06   \n",
      "\n",
      "              energy  instrumentalness       liveness       loudness  \\\n",
      "count  232725.000000     232725.000000  232725.000000  232725.000000   \n",
      "mean        0.570958          0.148301       0.215009      -9.569885   \n",
      "std         0.263456          0.302768       0.198273       5.998204   \n",
      "min         0.000020          0.000000       0.009670     -52.457000   \n",
      "25%         0.385000          0.000000       0.097400     -11.771000   \n",
      "50%         0.605000          0.000044       0.128000      -7.762000   \n",
      "75%         0.787000          0.035800       0.264000      -5.501000   \n",
      "max         0.999000          0.999000       1.000000       3.744000   \n",
      "\n",
      "         speechiness          tempo        valence  \n",
      "count  232725.000000  232725.000000  232725.000000  \n",
      "mean        0.120765     117.666585       0.454917  \n",
      "std         0.185518      30.898907       0.260065  \n",
      "min         0.022200      30.379000       0.000000  \n",
      "25%         0.036700      92.959000       0.237000  \n",
      "50%         0.050100     115.778000       0.444000  \n",
      "75%         0.105000     139.054000       0.660000  \n",
      "max         0.967000     242.903000       1.000000  \n",
      "genre               0\n",
      "artist_name         0\n",
      "track_name          1\n",
      "track_id            0\n",
      "popularity          0\n",
      "acousticness        0\n",
      "danceability        0\n",
      "duration_ms         0\n",
      "energy              0\n",
      "instrumentalness    0\n",
      "key                 0\n",
      "liveness            0\n",
      "loudness            0\n",
      "mode                0\n",
      "speechiness         0\n",
      "tempo               0\n",
      "time_signature      0\n",
      "valence             0\n",
      "dtype: int64\n"
     ]
    }
   ],
   "source": [
    "# Basic info\n",
    "print(df.info())\n",
    "\n",
    "# Summary statistics\n",
    "print(df.describe())\n",
    "\n",
    "# Missing values\n",
    "print(df.isnull().sum())\n"
   ]
  },
  {
   "cell_type": "code",
   "execution_count": 4,
   "id": "e74a381a",
   "metadata": {},
   "outputs": [
    {
     "name": "stdout",
     "output_type": "stream",
     "text": [
      "Index(['genre', 'artist_name', 'track_name', 'track_id', 'popularity',\n",
      "       'acousticness', 'danceability', 'duration_ms', 'energy',\n",
      "       'instrumentalness', 'key', 'liveness', 'loudness', 'mode',\n",
      "       'speechiness', 'tempo', 'time_signature', 'valence'],\n",
      "      dtype='object')\n"
     ]
    }
   ],
   "source": [
    "print(df.columns)"
   ]
  },
  {
   "cell_type": "code",
   "execution_count": 5,
   "id": "ec0c4d37",
   "metadata": {},
   "outputs": [
    {
     "name": "stdout",
     "output_type": "stream",
     "text": [
      "genre               0\n",
      "artist_name         0\n",
      "track_name          1\n",
      "track_id            0\n",
      "popularity          0\n",
      "acousticness        0\n",
      "danceability        0\n",
      "duration_ms         0\n",
      "energy              0\n",
      "instrumentalness    0\n",
      "key                 0\n",
      "liveness            0\n",
      "loudness            0\n",
      "mode                0\n",
      "speechiness         0\n",
      "tempo               0\n",
      "time_signature      0\n",
      "valence             0\n",
      "dtype: int64\n"
     ]
    }
   ],
   "source": [
    "# Check missing values in each column\n",
    "print(df.isnull().sum())\n",
    "\n",
    "# Option 1: Drop rows with missing values\n",
    "df = df.dropna()"
   ]
  },
  {
   "cell_type": "code",
   "execution_count": 6,
   "id": "2fe247a7",
   "metadata": {},
   "outputs": [
    {
     "name": "stdout",
     "output_type": "stream",
     "text": [
      "Duplicate rows: 0\n"
     ]
    }
   ],
   "source": [
    "# Check for duplicates\n",
    "print(\"Duplicate rows:\", df.duplicated().sum())\n",
    "\n",
    "# Remove duplicates\n",
    "df = df.drop_duplicates()"
   ]
  },
  {
   "cell_type": "code",
   "execution_count": 7,
   "id": "ebab42f9",
   "metadata": {},
   "outputs": [
    {
     "name": "stdout",
     "output_type": "stream",
     "text": [
      "genre                object\n",
      "artist_name          object\n",
      "track_name           object\n",
      "track_id             object\n",
      "popularity            int64\n",
      "acousticness        float64\n",
      "danceability        float64\n",
      "duration_ms           int64\n",
      "energy              float64\n",
      "instrumentalness    float64\n",
      "key                  object\n",
      "liveness            float64\n",
      "loudness            float64\n",
      "mode                 object\n",
      "speechiness         float64\n",
      "tempo               float64\n",
      "time_signature       object\n",
      "valence             float64\n",
      "dtype: object\n"
     ]
    }
   ],
   "source": [
    "print(df.dtypes)"
   ]
  }
 ],
 "metadata": {
  "kernelspec": {
   "display_name": "base",
   "language": "python",
   "name": "python3"
  },
  "language_info": {
   "codemirror_mode": {
    "name": "ipython",
    "version": 3
   },
   "file_extension": ".py",
   "mimetype": "text/x-python",
   "name": "python",
   "nbconvert_exporter": "python",
   "pygments_lexer": "ipython3",
   "version": "3.13.5"
  }
 },
 "nbformat": 4,
 "nbformat_minor": 5
}
